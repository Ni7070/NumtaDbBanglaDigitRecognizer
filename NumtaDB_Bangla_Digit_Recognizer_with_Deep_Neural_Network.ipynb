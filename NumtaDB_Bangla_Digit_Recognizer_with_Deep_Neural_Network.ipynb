{
  "nbformat": 4,
  "nbformat_minor": 0,
  "metadata": {
    "colab": {
      "name": "NumtaDB Bangla Digit Recognizer with Deep Neural Network.ipynb",
      "provenance": [],
      "collapsed_sections": [],
      "include_colab_link": true
    },
    "kernelspec": {
      "name": "python3",
      "display_name": "Python 3"
    },
    "accelerator": "GPU"
  },
  "cells": [
    {
      "cell_type": "markdown",
      "metadata": {
        "id": "view-in-github",
        "colab_type": "text"
      },
      "source": [
        "<a href=\"https://colab.research.google.com/github/Ni7070/NumtaDbBanglaDigitRecognizer/blob/main/NumtaDB_Bangla_Digit_Recognizer_with_Deep_Neural_Network.ipynb\" target=\"_parent\"><img src=\"https://colab.research.google.com/assets/colab-badge.svg\" alt=\"Open In Colab\"/></a>"
      ]
    },
    {
      "cell_type": "code",
      "metadata": {
        "id": "rxMRzWOGVqX3"
      },
      "source": [
        "import torch\n",
        "import torch.nn as nn\n",
        "import torch.nn.functional as F\n",
        "import torchvision\n",
        "from torchvision.transforms import transforms\n",
        "from torch.utils.data import DataLoader\n",
        "from torch.utils.data import Dataset\n",
        "\n",
        "\n",
        "import numpy as np\n",
        "import pandas as pd\n",
        "import matplotlib\n",
        "import matplotlib.pyplot as plt\n",
        "from PIL import Image\n",
        "\n",
        "import os\n",
        "from os import path\n",
        "import shutil\n",
        "import glob"
      ],
      "execution_count": null,
      "outputs": []
    },
    {
      "cell_type": "code",
      "metadata": {
        "colab": {
          "base_uri": "https://localhost:8080/"
        },
        "id": "LwxuTJt8VxYC",
        "outputId": "a19d4a69-f563-4d49-9a0c-dfd95060cab3"
      },
      "source": [
        "!pip install kaggle"
      ],
      "execution_count": null,
      "outputs": [
        {
          "output_type": "stream",
          "text": [
            "Requirement already satisfied: kaggle in /usr/local/lib/python3.7/dist-packages (1.5.10)\n",
            "Requirement already satisfied: six>=1.10 in /usr/local/lib/python3.7/dist-packages (from kaggle) (1.15.0)\n",
            "Requirement already satisfied: python-dateutil in /usr/local/lib/python3.7/dist-packages (from kaggle) (2.8.1)\n",
            "Requirement already satisfied: requests in /usr/local/lib/python3.7/dist-packages (from kaggle) (2.23.0)\n",
            "Requirement already satisfied: certifi in /usr/local/lib/python3.7/dist-packages (from kaggle) (2020.12.5)\n",
            "Requirement already satisfied: tqdm in /usr/local/lib/python3.7/dist-packages (from kaggle) (4.41.1)\n",
            "Requirement already satisfied: python-slugify in /usr/local/lib/python3.7/dist-packages (from kaggle) (4.0.1)\n",
            "Requirement already satisfied: urllib3 in /usr/local/lib/python3.7/dist-packages (from kaggle) (1.24.3)\n",
            "Requirement already satisfied: chardet<4,>=3.0.2 in /usr/local/lib/python3.7/dist-packages (from requests->kaggle) (3.0.4)\n",
            "Requirement already satisfied: idna<3,>=2.5 in /usr/local/lib/python3.7/dist-packages (from requests->kaggle) (2.10)\n",
            "Requirement already satisfied: text-unidecode>=1.3 in /usr/local/lib/python3.7/dist-packages (from python-slugify->kaggle) (1.3)\n"
          ],
          "name": "stdout"
        }
      ]
    },
    {
      "cell_type": "code",
      "metadata": {
        "colab": {
          "resources": {
            "http://localhost:8080/nbextensions/google.colab/files.js": {
              "data": "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",
              "ok": true,
              "headers": [
                [
                  "content-type",
                  "application/javascript"
                ]
              ],
              "status": 200,
              "status_text": ""
            }
          },
          "base_uri": "https://localhost:8080/",
          "height": 89
        },
        "id": "NBX6kFzpV0LS",
        "outputId": "e6b2d3f0-19bc-4011-b2b6-aba80f12f624"
      },
      "source": [
        "from google.colab import files\n",
        "files.upload()"
      ],
      "execution_count": null,
      "outputs": [
        {
          "output_type": "display_data",
          "data": {
            "text/html": [
              "\n",
              "     <input type=\"file\" id=\"files-317350a0-36b7-4f68-bbd9-b50498b9bc3c\" name=\"files[]\" multiple disabled\n",
              "        style=\"border:none\" />\n",
              "     <output id=\"result-317350a0-36b7-4f68-bbd9-b50498b9bc3c\">\n",
              "      Upload widget is only available when the cell has been executed in the\n",
              "      current browser session. Please rerun this cell to enable.\n",
              "      </output>\n",
              "      <script src=\"/nbextensions/google.colab/files.js\"></script> "
            ],
            "text/plain": [
              "<IPython.core.display.HTML object>"
            ]
          },
          "metadata": {
            "tags": []
          }
        },
        {
          "output_type": "stream",
          "text": [
            "Saving kaggle.json to kaggle.json\n"
          ],
          "name": "stdout"
        },
        {
          "output_type": "execute_result",
          "data": {
            "text/plain": [
              "{'kaggle.json': b'{\"username\":\"tahiranishat\",\"key\":\"8ed924ff655cd5b32f597aa3e24be0fa\"}'}"
            ]
          },
          "metadata": {
            "tags": []
          },
          "execution_count": 3
        }
      ]
    },
    {
      "cell_type": "code",
      "metadata": {
        "id": "tVKKmkD9V4Du"
      },
      "source": [
        "!mkdir -p ~/.kaggle\n",
        "!cp kaggle.json ~/.kaggle/\n",
        "!chmod 600 ~/.kaggle/kaggle.json"
      ],
      "execution_count": null,
      "outputs": []
    },
    {
      "cell_type": "code",
      "metadata": {
        "colab": {
          "base_uri": "https://localhost:8080/"
        },
        "id": "c6gWEgudV6ZL",
        "outputId": "79dff66d-e488-490c-b834-fcaf5d99855b"
      },
      "source": [
        "!kaggle datasets download -d BengaliAI/numta"
      ],
      "execution_count": null,
      "outputs": [
        {
          "output_type": "stream",
          "text": [
            "Downloading numta.zip to /content\n",
            "100% 1.90G/1.91G [00:18<00:00, 41.1MB/s]\n",
            "100% 1.91G/1.91G [00:18<00:00, 111MB/s] \n"
          ],
          "name": "stdout"
        }
      ]
    },
    {
      "cell_type": "code",
      "metadata": {
        "colab": {
          "base_uri": "https://localhost:8080/"
        },
        "id": "x82m6iCWV9AD",
        "outputId": "fd0b9e62-734d-48e1-a27b-bd6cb7517d81"
      },
      "source": [
        "from zipfile import ZipFile\n",
        "file_name = \"numta.zip\"\n",
        "\n",
        "with ZipFile(file_name, 'r') as zip:\n",
        "  zip.extractall()\n",
        "  print(\"Done!\")"
      ],
      "execution_count": null,
      "outputs": [
        {
          "output_type": "stream",
          "text": [
            "Done!\n"
          ],
          "name": "stdout"
        }
      ]
    },
    {
      "cell_type": "code",
      "metadata": {
        "id": "ShhYIK2MWA1o"
      },
      "source": [
        "#read CSV files only filename and digit column\n",
        "trainA =pd.read_csv('/content/training-a.csv', usecols = ['filename', 'digit'])\n",
        "trainB =pd.read_csv('/content/training-a.csv', usecols = ['filename', 'digit'])\n",
        "trainC =pd.read_csv('/content/training-a.csv', usecols = ['filename', 'digit'])\n",
        "trainD =pd.read_csv('/content/training-a.csv', usecols = ['filename', 'digit'])\n",
        "trainE =pd.read_csv('/content/training-a.csv', usecols = ['filename', 'digit'])"
      ],
      "execution_count": null,
      "outputs": []
    },
    {
      "cell_type": "code",
      "metadata": {
        "colab": {
          "base_uri": "https://localhost:8080/"
        },
        "id": "_jrBopmzWE_J",
        "outputId": "75678e95-0d16-4cc7-eb5b-665de82b9284"
      },
      "source": [
        "print(trainA.columns)\n",
        "print(trainB.columns)\n",
        "print(trainC.columns)\n",
        "print(trainD.columns)\n",
        "print(trainE.columns)"
      ],
      "execution_count": null,
      "outputs": [
        {
          "output_type": "stream",
          "text": [
            "Index(['filename', 'digit'], dtype='object')\n",
            "Index(['filename', 'digit'], dtype='object')\n",
            "Index(['filename', 'digit'], dtype='object')\n",
            "Index(['filename', 'digit'], dtype='object')\n",
            "Index(['filename', 'digit'], dtype='object')\n"
          ],
          "name": "stdout"
        }
      ]
    },
    {
      "cell_type": "code",
      "metadata": {
        "id": "xZLsM4erWHQb"
      },
      "source": [
        "merged_csv = pd.concat(([trainA, trainB, trainC, trainD, trainE]))\n",
        "print(len(merged_csv))\n",
        "print(merged_csv.tail())"
      ],
      "execution_count": null,
      "outputs": []
    },
    {
      "cell_type": "code",
      "metadata": {
        "id": "3SFxWdY3WJCa"
      },
      "source": [
        "TRAIN_PATH = \"trainAllNumtadb\"\n",
        "PATH = '/content/'"
      ],
      "execution_count": null,
      "outputs": []
    },
    {
      "cell_type": "code",
      "metadata": {
        "id": "OhjPTzWxWK2c"
      },
      "source": [
        "os.mkdir(TRAIN_PATH)"
      ],
      "execution_count": null,
      "outputs": []
    },
    {
      "cell_type": "code",
      "metadata": {
        "id": "5bOOxrH2WMmt"
      },
      "source": [
        "def processImages(folder_name):\n",
        "  src = PATH + folder_name + '/'\n",
        "  dir_folders = os.listdir(src)\n",
        "  for dir_name in dir_folders:\n",
        "    file_name = os.path.join(src, dir_name)\n",
        "    if os.path.isfile(file_name):\n",
        "      shutil.copy(file_name, TRAIN_PATH)"
      ],
      "execution_count": null,
      "outputs": []
    },
    {
      "cell_type": "code",
      "metadata": {
        "colab": {
          "base_uri": "https://localhost:8080/"
        },
        "id": "CQAyxnlUWOW-",
        "outputId": "5f702821-f801-48b4-e6f6-368cd8dfec82"
      },
      "source": [
        "processImages('training-a')\n",
        "print('A Done')\n",
        "processImages('training-b')\n",
        "print('B Done')\n",
        "processImages('training-c')\n",
        "print('C Done')\n",
        "processImages('training-d')\n",
        "print('D Done')\n",
        "processImages('training-e')\n",
        "print('E Done')"
      ],
      "execution_count": null,
      "outputs": [
        {
          "output_type": "stream",
          "text": [
            "A Done\n",
            "B Done\n",
            "C Done\n",
            "D Done\n",
            "E Done\n"
          ],
          "name": "stdout"
        }
      ]
    },
    {
      "cell_type": "code",
      "metadata": {
        "id": "1eKLEYSvWVBX"
      },
      "source": [
        "class numtaDb(Dataset):\n",
        "    def __init__(self, merged_csv_file, root_dir, transform=None):\n",
        "        self.data = merged_csv_file\n",
        "        self.root_dir = root_dir\n",
        "        self.transform = transform\n",
        "        \n",
        "    def __len__(self):\n",
        "        return len(self.data)\n",
        "    \n",
        "    def __getitem__(self, index):\n",
        "        item = self.data.iloc[index]\n",
        "        path = self.root_dir + '/' + item[0]\n",
        "        image = Image.open(path).convert('L')\n",
        "        label = item[1]\n",
        "        \n",
        "        if self.transform is not None:\n",
        "            image = self.transform(image)\n",
        "            \n",
        "        return image, label"
      ],
      "execution_count": null,
      "outputs": []
    },
    {
      "cell_type": "code",
      "metadata": {
        "id": "tN5PvrbyW_iZ"
      },
      "source": [
        "mean = [0.5,]\n",
        "std = [0.5, ]\n",
        "\n",
        "dset_transform = transforms.Compose([\n",
        "    transforms.Grayscale(num_output_channels=1),\n",
        "    transforms.Resize((28, 28)),\n",
        "    transforms.ToTensor(),\n",
        "    transforms.Normalize(mean, std)\n",
        "    \n",
        "])\n",
        "'''\n",
        "LOADING DATASET\n",
        "'''\n",
        "dataset = numtaDb(merged_csv_file = merged_csv, root_dir = TRAIN_PATH, \n",
        "                            #train=True, \n",
        "                            transform = dset_transform # Normalize the image to [0-1] from [0-255]\n",
        "                            )\n"
      ],
      "execution_count": null,
      "outputs": []
    },
    {
      "cell_type": "code",
      "metadata": {
        "id": "8cmdvraSWe0j"
      },
      "source": [
        "#split data into train:test = 90:10\n",
        "from sklearn.model_selection import train_test_split\n",
        "train_dataset, test_dataset = train_test_split(dataset, test_size=0.1)"
      ],
      "execution_count": null,
      "outputs": []
    },
    {
      "cell_type": "markdown",
      "metadata": {
        "id": "kblPGkkdPc7Q"
      },
      "source": [
        "###Settings: 01"
      ]
    },
    {
      "cell_type": "code",
      "metadata": {
        "colab": {
          "base_uri": "https://localhost:8080/"
        },
        "id": "aAMe3Oj9ee2L",
        "outputId": "380e07dd-08a6-4679-91f1-fc120ddee6d3"
      },
      "source": [
        "# Hyperparameters for settings 1 accuracy 79.72794640138056%\n",
        "batch_size = 260\n",
        "num_iters = 30000\n",
        "input_dim = 28*28 # num_features = 784\n",
        "num_hidden = 200\n",
        "output_dim = 10\n",
        "\n",
        "learning_rate = 0.004\n",
        "\n",
        "num_epochs = num_iters / (len(train_dataset) / batch_size)\n",
        "num_epochs = int(num_epochs)\n",
        "\n",
        "\n",
        "# Device\n",
        "device = torch.device(\"cuda:0\" if torch.cuda.is_available() else \"cpu\")\n",
        "\n",
        "\n",
        "\n",
        "train_loader = torch.utils.data.DataLoader(dataset=train_dataset, \n",
        "                                           batch_size=batch_size, \n",
        "                                           shuffle=True\n",
        "                                           )  \n",
        "\n",
        "test_loader = torch.utils.data.DataLoader(dataset=test_dataset, \n",
        "                                          batch_size=batch_size, \n",
        "                                          shuffle=False) \n",
        "\n",
        "class NeuralNetworkModel(nn.Module):\n",
        "    def __init__(self, input_size, num_classes, num_hidden):\n",
        "        super().__init__()\n",
        "        ### 1st hidden layer:\n",
        "        self.linear_1 = nn.Linear(784, num_hidden)\n",
        "        ### Non-linearity in 1st hidden layer\n",
        "        self.tanh = nn.Tanh()\n",
        "\n",
        "        ### 2nd hidden layer: \n",
        "        self.linear_2 = nn.Linear(num_hidden, num_hidden)\n",
        "        ### Non-linearity in 2nd hidden layer\n",
        "        self.leaky_relu_1 = nn.LeakyReLU()\n",
        "\n",
        "        ### 3rd hidden layer: \n",
        "        self.linear_3 = nn.Linear(num_hidden, num_hidden)\n",
        "        ### Non-linearity in 3rd hidden layer\n",
        "        self.relu_1 = nn.ReLU6()\n",
        "\n",
        "        ### 4th hidden layer: \n",
        "        self.linear_4 = nn.Linear(num_hidden, num_hidden)\n",
        "        ### Non-linearity in 3rd hidden layer\n",
        "        self.relu_2 = nn.ReLU6()\n",
        "\n",
        "        ### 5th hidden layer: \n",
        "        self.linear_5 = nn.Linear(num_hidden, num_hidden)\n",
        "        self.sigmoid = nn.Sigmoid()\n",
        "\n",
        "        ### Output layer: \n",
        "        self.linear_out = nn.Linear(num_hidden, num_classes)\n",
        "\n",
        "    def forward(self, x):\n",
        "        ## 1st hidden layer\n",
        "        out  = self.linear_1(x)\n",
        "        ### Non-linearity in 1st hidden layer\n",
        "        out = self.tanh(out)\n",
        "        \n",
        "        ### 2nd hidden layer\n",
        "        out  = self.linear_2(out)\n",
        "        ### Non-linearity in 2nd hidden layer\n",
        "        out = self.leaky_relu_1(out)\n",
        "\n",
        "        ### 3rd hidden layer\n",
        "        out  = self.linear_3(out)\n",
        "        ### Non-linearity in 3rd hidden layer\n",
        "        out = self.relu_1(out)\n",
        "\n",
        "        ### 4th hidden layer\n",
        "        out  = self.linear_4(out)\n",
        "        ### Non-linearity in 4th hidden layer\n",
        "        out = self.relu_2(out)\n",
        "\n",
        "        ### 5th hidden layer\n",
        "        out  = self.linear_5(out)\n",
        "        ### Non-linearity in 5th hidden layer\n",
        "        out = self.sigmoid(out)\n",
        "        \n",
        "        # Linear layer (output)\n",
        "        #probas  = self.linear_out(out)\n",
        "        logits  = self.linear_out(out)\n",
        "        probas = F.softmax(logits, dim=1)\n",
        "        return probas\n",
        "\n",
        "model = NeuralNetworkModel(input_size = input_dim,\n",
        "                           num_classes = output_dim,\n",
        "                           num_hidden = num_hidden)\n",
        "# To enable GPU\n",
        "model.to(device)\n",
        "\n",
        "criterion = nn.CrossEntropyLoss()\n",
        "optimizer = torch.optim.Adagrad(model.parameters(), lr=learning_rate)\n",
        "\n",
        "'''\n",
        "TRAIN THE MODEL\n",
        "'''\n",
        "iteration_loss = []\n",
        "iter = 0\n",
        "for epoch in range(num_epochs):\n",
        "    for i, (images, labels) in enumerate(train_loader):\n",
        "\n",
        "        images = images.view(-1, 28*28).to(device)\n",
        "        labels = labels.to(device)\n",
        "\n",
        "        # Clear gradients w.r.t. parameters\n",
        "        optimizer.zero_grad()\n",
        "\n",
        "        # Forward pass to get output/logits\n",
        "        outputs = model(images.float()) \n",
        "\n",
        "        # Calculate Loss: softmax --> cross entropy loss\n",
        "        loss = criterion(outputs, labels)\n",
        "\n",
        "        # Getting gradients w.r.t. parameters\n",
        "        loss.backward()\n",
        "\n",
        "        # Updating parameters\n",
        "        optimizer.step()\n",
        "\n",
        "        iter += 1\n",
        "        #print(iter)\n",
        "\n",
        "        if iter % 500 == 0:\n",
        "            # Calculate Accuracy         \n",
        "            correct = 0\n",
        "            total = 0\n",
        "            # Iterate through test dataset\n",
        "            for images, labels in test_loader:\n",
        "               \n",
        "                images = images.view(-1, 28*28).to(device)\n",
        "\n",
        "                # Forward pass only to get logits/output\n",
        "                outputs = model(images.float())\n",
        "\n",
        "                # Get predictions from the maximum value\n",
        "                _, predicted = torch.max(outputs, 1)\n",
        "\n",
        "                # Total number of labels\n",
        "                total += labels.size(0)\n",
        "\n",
        "\n",
        "                # Total correct predictions\n",
        "                if torch.cuda.is_available():\n",
        "                    correct += (predicted.cpu() == labels.cpu()).sum() \n",
        "                else:\n",
        "                    correct += (predicted == labels).sum()\n",
        "\n",
        "            accuracy = 100 * correct.item() / total\n",
        "\n",
        "            # Print Loss\n",
        "            iteration_loss.append(loss.item())\n",
        "            print('Iteration: {}. Loss: {}. Accuracy: {}'.format(iter, loss.item(), accuracy))\n",
        "            "
      ],
      "execution_count": null,
      "outputs": [
        {
          "output_type": "stream",
          "text": [
            "Iteration: 500. Loss: 2.173247814178467. Accuracy: 17.754542686021722\n",
            "Iteration: 1000. Loss: 2.1375913619995117. Accuracy: 31.042533752918484\n",
            "Iteration: 1500. Loss: 2.01997709274292. Accuracy: 44.66551619124962\n",
            "Iteration: 2000. Loss: 2.0406312942504883. Accuracy: 45.57912902243427\n",
            "Iteration: 2500. Loss: 2.0415892601013184. Accuracy: 39.81321693229114\n",
            "Iteration: 3000. Loss: 1.9293484687805176. Accuracy: 51.6191249619328\n",
            "Iteration: 3500. Loss: 1.961769700050354. Accuracy: 48.1067911887118\n",
            "Iteration: 4000. Loss: 1.8616180419921875. Accuracy: 52.22820018272257\n",
            "Iteration: 4500. Loss: 1.8904502391815186. Accuracy: 53.47680438534159\n",
            "Iteration: 5000. Loss: 1.8847837448120117. Accuracy: 61.88204243224038\n",
            "Iteration: 5500. Loss: 1.8262001276016235. Accuracy: 52.55304030047711\n",
            "Iteration: 6000. Loss: 1.8977068662643433. Accuracy: 58.34940615165973\n",
            "Iteration: 6500. Loss: 1.7972173690795898. Accuracy: 66.73434169119886\n",
            "Iteration: 7000. Loss: 1.7933120727539062. Accuracy: 68.43975230941021\n",
            "Iteration: 7500. Loss: 1.7512738704681396. Accuracy: 69.59699522891077\n",
            "Iteration: 8000. Loss: 1.7842497825622559. Accuracy: 70.19591919602071\n",
            "Iteration: 8500. Loss: 1.7574572563171387. Accuracy: 67.00842554055426\n",
            "Iteration: 9000. Loss: 1.7420051097869873. Accuracy: 70.66287686529286\n",
            "Iteration: 9500. Loss: 1.7617976665496826. Accuracy: 73.07887524109228\n",
            "Iteration: 10000. Loss: 1.7527475357055664. Accuracy: 69.17064257435793\n",
            "Iteration: 10500. Loss: 1.727344274520874. Accuracy: 71.72875850167496\n",
            "Iteration: 11000. Loss: 1.7114065885543823. Accuracy: 73.59658917876358\n",
            "Iteration: 11500. Loss: 1.7664775848388672. Accuracy: 70.49030555273576\n",
            "Iteration: 12000. Loss: 1.6926496028900146. Accuracy: 73.0179677190133\n",
            "Iteration: 12500. Loss: 1.715762972831726. Accuracy: 72.5713125571008\n",
            "Iteration: 13000. Loss: 1.7169352769851685. Accuracy: 75.87047000304537\n",
            "Iteration: 13500. Loss: 1.720805048942566. Accuracy: 76.47954522383515\n",
            "Iteration: 14000. Loss: 1.7008428573608398. Accuracy: 75.48472236321186\n",
            "Iteration: 14500. Loss: 1.6971163749694824. Accuracy: 76.52015023855446\n",
            "Iteration: 15000. Loss: 1.723842978477478. Accuracy: 76.54045274591412\n",
            "Iteration: 15500. Loss: 1.6960200071334839. Accuracy: 77.49467059181809\n",
            "Iteration: 16000. Loss: 1.6610692739486694. Accuracy: 77.01756166886611\n",
            "Iteration: 16500. Loss: 1.6987569332122803. Accuracy: 75.77910871992691\n",
            "Iteration: 17000. Loss: 1.7186436653137207. Accuracy: 77.72814942645417\n",
            "Iteration: 17500. Loss: 1.67671537399292. Accuracy: 77.97177951477008\n",
            "Iteration: 18000. Loss: 1.7120792865753174. Accuracy: 78.44888843772206\n",
            "Iteration: 18500. Loss: 1.7031515836715698. Accuracy: 78.59100598923968\n",
            "Iteration: 19000. Loss: 1.6766548156738281. Accuracy: 78.3270733935641\n",
            "Iteration: 19500. Loss: 1.6741256713867188. Accuracy: 76.56075525327378\n",
            "Iteration: 20000. Loss: 1.6937371492385864. Accuracy: 78.7026697797178\n",
            "Iteration: 20500. Loss: 1.7012560367584229. Accuracy: 78.44888843772206\n",
            "Iteration: 21000. Loss: 1.6962435245513916. Accuracy: 79.30159374682773\n",
            "Iteration: 21500. Loss: 1.7087268829345703. Accuracy: 78.23571211044565\n",
            "Iteration: 22000. Loss: 1.6769907474517822. Accuracy: 79.09856867323114\n",
            "Iteration: 22500. Loss: 1.6721374988555908. Accuracy: 79.00720739011268\n",
            "Iteration: 23000. Loss: 1.6777445077896118. Accuracy: 79.2914424931479\n",
            "Iteration: 23500. Loss: 1.699299693107605. Accuracy: 80.03248401177545\n",
            "Iteration: 24000. Loss: 1.649828553199768. Accuracy: 79.23053497106892\n",
            "Iteration: 24500. Loss: 1.6717785596847534. Accuracy: 78.28646837884479\n",
            "Iteration: 25000. Loss: 1.6858506202697754. Accuracy: 79.0173586437925\n",
            "Iteration: 25500. Loss: 1.6810632944107056. Accuracy: 79.18992995634962\n",
            "Iteration: 26000. Loss: 1.6581709384918213. Accuracy: 79.34219876154705\n",
            "Iteration: 26500. Loss: 1.672689437866211. Accuracy: 78.68236727235814\n",
            "Iteration: 27000. Loss: 1.651724100112915. Accuracy: 80.39792914424932\n",
            "Iteration: 27500. Loss: 1.6857234239578247. Accuracy: 80.60095421784591\n",
            "Iteration: 28000. Loss: 1.6422773599624634. Accuracy: 80.55019794944675\n",
            "Iteration: 28500. Loss: 1.658706545829773. Accuracy: 80.04263526545529\n",
            "Iteration: 29000. Loss: 1.631439447402954. Accuracy: 79.93097147497716\n",
            "Iteration: 29500. Loss: 1.6475708484649658. Accuracy: 79.72794640138056\n"
          ],
          "name": "stdout"
        }
      ]
    },
    {
      "cell_type": "markdown",
      "metadata": {
        "id": "Doz286JEjwpN"
      },
      "source": [
        "Settings: 02"
      ]
    },
    {
      "cell_type": "code",
      "metadata": {
        "colab": {
          "base_uri": "https://localhost:8080/"
        },
        "id": "fEOTjAJEilVE",
        "outputId": "b1ade6fa-e8a3-4ea1-9870-c76ddcc02542"
      },
      "source": [
        "# Hyperparameters for settings 2 accuracy 89.55435996345548%\n",
        "batch_size = 250\n",
        "num_iters = 15000\n",
        "input_dim = 28*28 # num_features = 784\n",
        "num_hidden = 180\n",
        "output_dim = 10\n",
        "\n",
        "learning_rate = 0.001\n",
        "\n",
        "num_epochs = num_iters / (len(train_dataset) / batch_size)\n",
        "num_epochs = int(num_epochs)\n",
        "\n",
        "\n",
        "# Device\n",
        "device = torch.device(\"cuda:0\" if torch.cuda.is_available() else \"cpu\")\n",
        "\n",
        "\n",
        "\n",
        "train_loader = torch.utils.data.DataLoader(dataset=train_dataset, \n",
        "                                           batch_size=batch_size, \n",
        "                                           shuffle=True\n",
        "                                           )  \n",
        "\n",
        "test_loader = torch.utils.data.DataLoader(dataset=test_dataset, \n",
        "                                          batch_size=batch_size, \n",
        "                                          shuffle=False) \n",
        "\n",
        "class NeuralNetworkModel(nn.Module):\n",
        "    def __init__(self, input_size, num_classes, num_hidden):\n",
        "        super().__init__()\n",
        "        ### 1st hidden layer: \n",
        "        self.linear_1 = nn.Linear(784, num_hidden)\n",
        "        ### Non-linearity in 1st hidden layer\n",
        "        self.relu_1 = nn.LeakyReLU()\n",
        "\n",
        "        ### 2nd hidden layer: \n",
        "        self.linear_2 = nn.Linear(num_hidden, num_hidden)\n",
        "        ### Non-linearity in 2nd hidden layer\n",
        "        self.leaky_relu_1 = nn.ReLU6()\n",
        "\n",
        "        ### 3rd hidden layer: \n",
        "        self.linear_3 = nn.Linear(num_hidden, num_hidden)\n",
        "        ### Non-linearity in 3rd hidden layer\n",
        "        self.relu_3 = nn.ReLU6()\n",
        "\n",
        "        ### 4th hidden layer: \n",
        "        self.linear_4 = nn.Linear(num_hidden, num_hidden)\n",
        "        self.sigmoid = nn.Sigmoid()\n",
        "\n",
        "        ### Output layer: \n",
        "        self.linear_out = nn.Linear(num_hidden, num_classes)\n",
        "\n",
        "    def forward(self, x):\n",
        "        ## 1st hidden layer\n",
        "        out  = self.linear_1(x)\n",
        "        ### Non-linearity in 1st hidden layer\n",
        "        out = self.relu_1(out)\n",
        "        \n",
        "        ### 2nd hidden layer\n",
        "        out  = self.linear_2(out)\n",
        "        ### Non-linearity in 2nd hidden layer\n",
        "        out = self.leaky_relu_1(out)\n",
        "\n",
        "        ### 3rd hidden layer\n",
        "        out  = self.linear_3(out)\n",
        "        ### Non-linearity in 3rd hidden layer\n",
        "        out = self.relu_3(out)\n",
        "\n",
        "        ### 4th hidden layer\n",
        "        out  = self.linear_4(out)\n",
        "        ### Non-linearity in 3rd hidden layer\n",
        "        out = self.sigmoid(out)\n",
        "        \n",
        "        # Linear layer (output)\n",
        "        #probas  = self.linear_out(out)\n",
        "        logits  = self.linear_out(out)\n",
        "        probas = F.softmax(logits, dim=1)\n",
        "        return probas\n",
        "\n",
        "model = NeuralNetworkModel(input_size = input_dim,\n",
        "                           num_classes = output_dim,\n",
        "                           num_hidden = num_hidden)\n",
        "# To enable GPU\n",
        "model.to(device)\n",
        "\n",
        "criterion = nn.CrossEntropyLoss()\n",
        "optimizer = torch.optim.Adamax(model.parameters(), lr=learning_rate)\n",
        "\n",
        "'''\n",
        "TRAIN THE MODEL\n",
        "'''\n",
        "iteration_loss = []\n",
        "iter = 0\n",
        "for epoch in range(num_epochs):\n",
        "    for i, (images, labels) in enumerate(train_loader):\n",
        "\n",
        "        images = images.view(-1, 28*28).to(device)\n",
        "        labels = labels.to(device)\n",
        "\n",
        "        # Clear gradients w.r.t. parameters\n",
        "        optimizer.zero_grad()\n",
        "\n",
        "        # Forward pass to get output/logits\n",
        "        outputs = model(images.float()) \n",
        "\n",
        "        # Calculate Loss: softmax --> cross entropy loss\n",
        "        loss = criterion(outputs, labels)\n",
        "\n",
        "        # Getting gradients w.r.t. parameters\n",
        "        loss.backward()\n",
        "\n",
        "        # Updating parameters\n",
        "        optimizer.step()\n",
        "\n",
        "        iter += 1\n",
        "        # print(iter)\n",
        "\n",
        "        if iter % 500 == 0:\n",
        "            # Calculate Accuracy         \n",
        "            correct = 0\n",
        "            total = 0\n",
        "            # Iterate through test dataset\n",
        "            for images, labels in test_loader:\n",
        "               \n",
        "                images = images.view(-1, 28*28).to(device)\n",
        "\n",
        "                # Forward pass only to get logits/output\n",
        "                outputs = model(images.float())\n",
        "\n",
        "                # Get predictions from the maximum value\n",
        "                _, predicted = torch.max(outputs, 1)\n",
        "\n",
        "                # Total number of labels\n",
        "                total += labels.size(0)\n",
        "\n",
        "\n",
        "                # Total correct predictions\n",
        "                if torch.cuda.is_available():\n",
        "                    correct += (predicted.cpu() == labels.cpu()).sum() \n",
        "                else:\n",
        "                    correct += (predicted == labels).sum()\n",
        "\n",
        "            accuracy = 100 * correct.item() / total\n",
        "\n",
        "            # Print Loss\n",
        "            iteration_loss.append(loss.item())\n",
        "            print('Iteration: {}. Loss: {}. Accuracy: {}'.format(iter, loss.item(), accuracy))"
      ],
      "execution_count": null,
      "outputs": [
        {
          "output_type": "stream",
          "text": [
            "Iteration: 500. Loss: 2.2256956100463867. Accuracy: 23.134707136331336\n",
            "Iteration: 1000. Loss: 2.121375799179077. Accuracy: 30.94102121612019\n",
            "Iteration: 1500. Loss: 2.0070903301239014. Accuracy: 47.081514567049034\n",
            "Iteration: 2000. Loss: 1.9823884963989258. Accuracy: 48.78692518526038\n",
            "Iteration: 2500. Loss: 1.8491005897521973. Accuracy: 59.963455486752615\n",
            "Iteration: 3000. Loss: 1.84553861618042. Accuracy: 61.52674855344635\n",
            "Iteration: 3500. Loss: 1.847179651260376. Accuracy: 64.20667952492133\n",
            "Iteration: 4000. Loss: 1.7664850950241089. Accuracy: 68.95746624708151\n",
            "Iteration: 4500. Loss: 1.7670466899871826. Accuracy: 70.3684905085778\n",
            "Iteration: 5000. Loss: 1.747267246246338. Accuracy: 70.1248604202619\n",
            "Iteration: 5500. Loss: 1.7450129985809326. Accuracy: 75.99228504720332\n",
            "Iteration: 6000. Loss: 1.7230989933013916. Accuracy: 74.70307582986499\n",
            "Iteration: 6500. Loss: 1.6675074100494385. Accuracy: 78.00223327580956\n",
            "Iteration: 7000. Loss: 1.6458797454833984. Accuracy: 78.11389706628769\n",
            "Iteration: 7500. Loss: 1.6626840829849243. Accuracy: 79.84976144553852\n",
            "Iteration: 8000. Loss: 1.6307342052459717. Accuracy: 82.14394477717998\n",
            "Iteration: 8500. Loss: 1.6497786045074463. Accuracy: 80.5298954420871\n",
            "Iteration: 9000. Loss: 1.6599210500717163. Accuracy: 82.46878489493453\n",
            "Iteration: 9500. Loss: 1.6261565685272217. Accuracy: 83.00680133996549\n",
            "Iteration: 10000. Loss: 1.6507707834243774. Accuracy: 85.20962338848848\n",
            "Iteration: 10500. Loss: 1.6209516525268555. Accuracy: 85.4227997157649\n",
            "Iteration: 11000. Loss: 1.6119846105575562. Accuracy: 87.00639528981829\n",
            "Iteration: 11500. Loss: 1.5893127918243408. Accuracy: 85.62582478936149\n",
            "Iteration: 12000. Loss: 1.63542640209198. Accuracy: 84.4584306161811\n",
            "Iteration: 12500. Loss: 1.6157313585281372. Accuracy: 88.23469698507766\n",
            "Iteration: 13000. Loss: 1.6497554779052734. Accuracy: 87.19926910973506\n",
            "Iteration: 13500. Loss: 1.5578114986419678. Accuracy: 88.42757080499442\n",
            "Iteration: 14000. Loss: 1.5587546825408936. Accuracy: 85.93036239975638\n",
            "Iteration: 14500. Loss: 1.6006120443344116. Accuracy: 89.55435996345548\n"
          ],
          "name": "stdout"
        }
      ]
    },
    {
      "cell_type": "code",
      "metadata": {
        "colab": {
          "base_uri": "https://localhost:8080/",
          "height": 316
        },
        "id": "1RELIqxyiV-N",
        "outputId": "62225173-ad4c-4c93-b486-e86afdd748ee"
      },
      "source": [
        "import matplotlib\n",
        "import matplotlib.pyplot as plt\n",
        "\n",
        "print (iteration_loss)\n",
        "plt.plot(iteration_loss)\n",
        "plt.ylabel('Cross Entropy Loss')\n",
        "plt.xlabel('Iteration (in every 500)')\n",
        "plt.show()"
      ],
      "execution_count": null,
      "outputs": [
        {
          "output_type": "stream",
          "text": [
            "[2.2256956100463867, 2.121375799179077, 2.0070903301239014, 1.9823884963989258, 1.8491005897521973, 1.84553861618042, 1.847179651260376, 1.7664850950241089, 1.7670466899871826, 1.747267246246338, 1.7450129985809326, 1.7230989933013916, 1.6675074100494385, 1.6458797454833984, 1.6626840829849243, 1.6307342052459717, 1.6497786045074463, 1.6599210500717163, 1.6261565685272217, 1.6507707834243774, 1.6209516525268555, 1.6119846105575562, 1.5893127918243408, 1.63542640209198, 1.6157313585281372, 1.6497554779052734, 1.5578114986419678, 1.5587546825408936, 1.6006120443344116]\n"
          ],
          "name": "stdout"
        },
        {
          "output_type": "display_data",
          "data": {
            "image/png": "[encoded data removed]",
            "text/plain": [
              "<Figure size 432x288 with 1 Axes>"
            ]
          },
          "metadata": {
            "tags": [],
            "needs_background": "light"
          }
        }
      ]
    },
    {
      "cell_type": "markdown",
      "metadata": {
        "id": "WJ2JhZ1xkmvp"
      },
      "source": [
        "Settings: 03"
      ]
    },
    {
      "cell_type": "code",
      "metadata": {
        "colab": {
          "base_uri": "https://localhost:8080/"
        },
        "id": "di07r401zst1",
        "outputId": "8b8a4755-4d83-433c-a288-376433d02227"
      },
      "source": [
        "# Hyperparameters for settings3 accuracy = 95.7973809765506%\n",
        "batch_size = 256\n",
        "num_iters = 30000\n",
        "input_dim = 28*28 # num_features = 784\n",
        "num_hidden = 180\n",
        "output_dim = 10\n",
        "\n",
        "learning_rate = 0.002\n",
        "\n",
        "num_epochs = num_iters / (len(train_dataset) / batch_size)\n",
        "num_epochs = int(num_epochs)\n",
        "\n",
        "\n",
        "# Device\n",
        "device = torch.device(\"cuda:0\" if torch.cuda.is_available() else \"cpu\")\n",
        "\n",
        "\n",
        "\n",
        "train_loader = torch.utils.data.DataLoader(dataset=train_dataset, \n",
        "                                           batch_size=batch_size, \n",
        "                                           shuffle=True\n",
        "                                           )  \n",
        "\n",
        "test_loader = torch.utils.data.DataLoader(dataset=test_dataset, \n",
        "                                          batch_size=batch_size, \n",
        "                                          shuffle=False) \n",
        "\n",
        "class NeuralNetworkModel(nn.Module):\n",
        "    def __init__(self, input_size, num_classes, num_hidden):\n",
        "        super().__init__()\n",
        "        ### 1st hidden layer: \n",
        "        self.linear_1 = nn.Linear(784, num_hidden)\n",
        "        ### Non-linearity in 1st hidden layer\n",
        "        self.relu_1 = nn.LeakyReLU()\n",
        "\n",
        "        ### 2nd hidden layer: \n",
        "        self.linear_2 = nn.Linear(num_hidden, num_hidden)\n",
        "        ### Non-linearity in 2nd hidden layer\n",
        "        self.leaky_relu_1 = nn.ReLU6()\n",
        "\n",
        "        ### 3rd hidden layer: \n",
        "        self.linear_3 = nn.Linear(num_hidden, num_hidden)\n",
        "        ### Non-linearity in 3rd hidden layer\n",
        "        self.relu_3 = nn.ReLU6()\n",
        "\n",
        "        ### 4th hidden layer: \n",
        "        self.linear_4 = nn.Linear(num_hidden, num_hidden)\n",
        "        self.sigmoid = nn.Sigmoid()\n",
        "\n",
        "        ### Output layer: \n",
        "        self.linear_out = nn.Linear(num_hidden, num_classes)\n",
        "\n",
        "    def forward(self, x):\n",
        "        ## 1st hidden layer\n",
        "        out  = self.linear_1(x)\n",
        "        ### Non-linearity in 1st hidden layer\n",
        "        out = self.relu_1(out)\n",
        "        \n",
        "        ### 2nd hidden layer\n",
        "        out  = self.linear_2(out)\n",
        "        ### Non-linearity in 2nd hidden layer\n",
        "        out = self.leaky_relu_1(out)\n",
        "\n",
        "        ### 3rd hidden layer\n",
        "        out  = self.linear_3(out)\n",
        "        ### Non-linearity in 3rd hidden layer\n",
        "        out = self.relu_3(out)\n",
        "\n",
        "        ### 4th hidden layer\n",
        "        out  = self.linear_4(out)\n",
        "        ### Non-linearity in 3rd hidden layer\n",
        "        out = self.sigmoid(out)\n",
        "        \n",
        "        # Linear layer (output)\n",
        "        #probas  = self.linear_out(out)\n",
        "        logits  = self.linear_out(out)\n",
        "        probas = F.softmax(logits, dim=1)\n",
        "        return probas\n",
        "\n",
        "model = NeuralNetworkModel(input_size = input_dim,\n",
        "                           num_classes = output_dim,\n",
        "                           num_hidden = num_hidden)\n",
        "# To enable GPU\n",
        "model.to(device)\n",
        "\n",
        "criterion = nn.CrossEntropyLoss()\n",
        "optimizer = torch.optim.Adamax(model.parameters(), lr=learning_rate)\n",
        "\n",
        "'''\n",
        "TRAIN THE MODEL\n",
        "'''\n",
        "iteration_loss = []\n",
        "iter = 0\n",
        "for epoch in range(num_epochs):\n",
        "    for i, (images, labels) in enumerate(train_loader):\n",
        "\n",
        "        images = images.view(-1, 28*28).to(device)\n",
        "        labels = labels.to(device)\n",
        "\n",
        "        # Clear gradients w.r.t. parameters\n",
        "        optimizer.zero_grad()\n",
        "\n",
        "        # Forward pass to get output/logits\n",
        "        outputs = model(images.float()) \n",
        "\n",
        "        # Calculate Loss: softmax --> cross entropy loss\n",
        "        loss = criterion(outputs, labels)\n",
        "\n",
        "        # Getting gradients w.r.t. parameters\n",
        "        loss.backward()\n",
        "\n",
        "        # Updating parameters\n",
        "        optimizer.step()\n",
        "\n",
        "        iter += 1\n",
        "        # print(iter)\n",
        "\n",
        "        if iter % 500 == 0:\n",
        "            # Calculate Accuracy         \n",
        "            correct = 0\n",
        "            total = 0\n",
        "            # Iterate through test dataset\n",
        "            for images, labels in test_loader:\n",
        "               \n",
        "                images = images.view(-1, 28*28).to(device)\n",
        "\n",
        "                # Forward pass only to get logits/output\n",
        "                outputs = model(images.float())\n",
        "\n",
        "                # Get predictions from the maximum value\n",
        "                _, predicted = torch.max(outputs, 1)\n",
        "\n",
        "                # Total number of labels\n",
        "                total += labels.size(0)\n",
        "\n",
        "\n",
        "                # Total correct predictions\n",
        "                if torch.cuda.is_available():\n",
        "                    correct += (predicted.cpu() == labels.cpu()).sum() \n",
        "                else:\n",
        "                    correct += (predicted == labels).sum()\n",
        "\n",
        "            accuracy = 100 * correct.item() / total\n",
        "\n",
        "            # Print Loss\n",
        "            iteration_loss.append(loss.item())\n",
        "            print('Iteration: {}. Loss: {}. Accuracy: {}'.format(iter, loss.item(), accuracy))"
      ],
      "execution_count": null,
      "outputs": [
        {
          "output_type": "stream",
          "text": [
            "Iteration: 500. Loss: 2.186065673828125. Accuracy: 24.42391635366968\n",
            "Iteration: 1000. Loss: 2.0563294887542725. Accuracy: 47.416505938483404\n",
            "Iteration: 1500. Loss: 1.9219483137130737. Accuracy: 56.319155415693835\n",
            "Iteration: 2000. Loss: 1.8299345970153809. Accuracy: 63.83108313876764\n",
            "Iteration: 2500. Loss: 1.785597562789917. Accuracy: 69.68835651202923\n",
            "Iteration: 3000. Loss: 1.6933268308639526. Accuracy: 65.21165363922445\n",
            "Iteration: 3500. Loss: 1.7250250577926636. Accuracy: 76.73332656583088\n",
            "Iteration: 4000. Loss: 1.9384100437164307. Accuracy: 77.65709065069537\n",
            "Iteration: 4500. Loss: 1.643325686454773. Accuracy: 77.45406557709877\n",
            "Iteration: 5000. Loss: 1.6825010776519775. Accuracy: 77.50482184549791\n",
            "Iteration: 5500. Loss: 1.6641526222229004. Accuracy: 78.59100598923968\n",
            "Iteration: 6000. Loss: 1.651277780532837. Accuracy: 73.4341691198863\n",
            "Iteration: 6500. Loss: 1.618160367012024. Accuracy: 84.0422292153081\n",
            "Iteration: 7000. Loss: 1.6142371892929077. Accuracy: 82.29621358237742\n",
            "Iteration: 7500. Loss: 1.706053614616394. Accuracy: 86.76276520150239\n",
            "Iteration: 8000. Loss: 1.638246774673462. Accuracy: 82.83423002740838\n",
            "Iteration: 8500. Loss: 1.6090679168701172. Accuracy: 71.42422089128007\n",
            "Iteration: 9000. Loss: 1.5710457563400269. Accuracy: 83.47375900923764\n",
            "Iteration: 9500. Loss: 1.5673682689666748. Accuracy: 86.76276520150239\n",
            "Iteration: 10000. Loss: 1.579543113708496. Accuracy: 86.72216018678307\n",
            "Iteration: 10500. Loss: 1.5561658143997192. Accuracy: 89.92995634960917\n",
            "Iteration: 11000. Loss: 1.5916247367858887. Accuracy: 86.00142117551518\n",
            "Iteration: 11500. Loss: 1.5990298986434937. Accuracy: 89.85889757385037\n",
            "Iteration: 12000. Loss: 1.601209282875061. Accuracy: 86.3567150543092\n",
            "Iteration: 12500. Loss: 1.567156195640564. Accuracy: 85.87960613135722\n",
            "Iteration: 13000. Loss: 1.5644041299819946. Accuracy: 89.20921733834129\n",
            "Iteration: 13500. Loss: 1.5257506370544434. Accuracy: 88.9046797279464\n",
            "Iteration: 14000. Loss: 1.5563956499099731. Accuracy: 90.70145162927622\n",
            "Iteration: 14500. Loss: 1.597677230834961. Accuracy: 92.65049233580348\n",
            "Iteration: 15000. Loss: 1.586694598197937. Accuracy: 89.66602375393362\n",
            "Iteration: 15500. Loss: 1.5385777950286865. Accuracy: 92.80276114100091\n",
            "Iteration: 16000. Loss: 1.6008617877960205. Accuracy: 90.64054410719724\n",
            "Iteration: 16500. Loss: 1.553553581237793. Accuracy: 91.84854329509695\n",
            "Iteration: 17000. Loss: 1.5245442390441895. Accuracy: 93.34077758603188\n",
            "Iteration: 17500. Loss: 1.545431137084961. Accuracy: 92.62003857476398\n",
            "Iteration: 18000. Loss: 1.5543407201766968. Accuracy: 87.16881534869556\n",
            "Iteration: 18500. Loss: 1.5115690231323242. Accuracy: 94.10212161201909\n",
            "Iteration: 19000. Loss: 1.5566765069961548. Accuracy: 94.3152979392955\n",
            "Iteration: 19500. Loss: 1.544785737991333. Accuracy: 93.52350015226881\n",
            "Iteration: 20000. Loss: 1.5655337572097778. Accuracy: 93.83818901634352\n",
            "Iteration: 20500. Loss: 1.4907422065734863. Accuracy: 94.44726423713328\n",
            "Iteration: 21000. Loss: 1.5244852304458618. Accuracy: 92.99563496091767\n",
            "Iteration: 21500. Loss: 1.5280452966690063. Accuracy: 91.69627448989951\n",
            "Iteration: 22000. Loss: 1.5305982828140259. Accuracy: 91.46279565526342\n",
            "Iteration: 22500. Loss: 1.53854238986969. Accuracy: 94.45741549081312\n",
            "Iteration: 23000. Loss: 1.5404118299484253. Accuracy: 91.70642574357933\n",
            "Iteration: 23500. Loss: 1.497933030128479. Accuracy: 95.26951578519947\n",
            "Iteration: 24000. Loss: 1.5149545669555664. Accuracy: 94.16302913409807\n",
            "Iteration: 24500. Loss: 1.477828025817871. Accuracy: 94.4878692518526\n",
            "Iteration: 25000. Loss: 1.5204428434371948. Accuracy: 94.97512942848442\n",
            "Iteration: 25500. Loss: 1.5152225494384766. Accuracy: 88.82346969850776\n",
            "Iteration: 26000. Loss: 1.5462110042572021. Accuracy: 93.70622271850574\n",
            "Iteration: 26500. Loss: 1.4966446161270142. Accuracy: 95.31012079991879\n",
            "Iteration: 27000. Loss: 1.5316702127456665. Accuracy: 95.05633945792306\n",
            "Iteration: 27500. Loss: 1.5215052366256714. Accuracy: 95.80753223023044\n",
            "Iteration: 28000. Loss: 1.4893693923950195. Accuracy: 95.0360369505634\n",
            "Iteration: 28500. Loss: 1.52048921585083. Accuracy: 94.29499543193585\n",
            "Iteration: 29000. Loss: 1.515458106994629. Accuracy: 94.10212161201909\n",
            "Iteration: 29500. Loss: 1.4881324768066406. Accuracy: 95.7973809765506\n"
          ],
          "name": "stdout"
        }
      ]
    },
    {
      "cell_type": "code",
      "metadata": {
        "colab": {
          "base_uri": "https://localhost:8080/",
          "height": 316
        },
        "id": "zsnggW_90fC9",
        "outputId": "eaba1220-4330-4da3-d996-70b2085451de"
      },
      "source": [
        "import matplotlib\n",
        "import matplotlib.pyplot as plt\n",
        "\n",
        "print (iteration_loss)\n",
        "plt.plot(iteration_loss)\n",
        "plt.ylabel('Cross Entropy Loss')\n",
        "plt.xlabel('Iteration (in every 500)')\n",
        "plt.show()"
      ],
      "execution_count": null,
      "outputs": [
        {
          "output_type": "stream",
          "text": [
            "[2.186065673828125, 2.0563294887542725, 1.9219483137130737, 1.8299345970153809, 1.785597562789917, 1.6933268308639526, 1.7250250577926636, 1.9384100437164307, 1.643325686454773, 1.6825010776519775, 1.6641526222229004, 1.651277780532837, 1.618160367012024, 1.6142371892929077, 1.706053614616394, 1.638246774673462, 1.6090679168701172, 1.5710457563400269, 1.5673682689666748, 1.579543113708496, 1.5561658143997192, 1.5916247367858887, 1.5990298986434937, 1.601209282875061, 1.567156195640564, 1.5644041299819946, 1.5257506370544434, 1.5563956499099731, 1.597677230834961, 1.586694598197937, 1.5385777950286865, 1.6008617877960205, 1.553553581237793, 1.5245442390441895, 1.545431137084961, 1.5543407201766968, 1.5115690231323242, 1.5566765069961548, 1.544785737991333, 1.5655337572097778, 1.4907422065734863, 1.5244852304458618, 1.5280452966690063, 1.5305982828140259, 1.53854238986969, 1.5404118299484253, 1.497933030128479, 1.5149545669555664, 1.477828025817871, 1.5204428434371948, 1.5152225494384766, 1.5462110042572021, 1.4966446161270142, 1.5316702127456665, 1.5215052366256714, 1.4893693923950195, 1.52048921585083, 1.515458106994629, 1.4881324768066406]\n"
          ],
          "name": "stdout"
        },
        {
          "output_type": "display_data",
          "data": {
            "image/png": "[encoded data removed]",
            "text/plain": [
              "<Figure size 432x288 with 1 Axes>"
            ]
          },
          "metadata": {
            "tags": [],
            "needs_background": "light"
          }
        }
      ]
    },
    {
      "cell_type": "markdown",
      "metadata": {
        "id": "zOrEcy1GlGok"
      },
      "source": [
        "Settings: 04"
      ]
    },
    {
      "cell_type": "code",
      "metadata": {
        "colab": {
          "base_uri": "https://localhost:8080/"
        },
        "id": "Ew4XoLLTCLPF",
        "outputId": "297975f1-8cdc-49cf-bcff-2f026eb25c38"
      },
      "source": [
        "# Hyperparameters for settings4 with accuracy 97.95959801035428% \n",
        "\n",
        "batch_size = 256\n",
        "num_iters = 54500\n",
        "input_dim = 28*28 # num_features = 784\n",
        "num_hidden = 180\n",
        "output_dim = 10\n",
        "\n",
        "learning_rate = 0.003\n",
        "\n",
        "num_epochs = num_iters / (len(train_dataset) / batch_size)\n",
        "num_epochs = int(num_epochs)\n",
        "\n",
        "\n",
        "# Device\n",
        "device = torch.device(\"cuda:0\" if torch.cuda.is_available() else \"cpu\")\n",
        "\n",
        "\n",
        "\n",
        "train_loader = torch.utils.data.DataLoader(dataset=train_dataset, \n",
        "                                           batch_size=batch_size, \n",
        "                                           shuffle=True\n",
        "                                           )  \n",
        "\n",
        "test_loader = torch.utils.data.DataLoader(dataset=test_dataset, \n",
        "                                          batch_size=batch_size, \n",
        "                                          shuffle=False) \n",
        "\n",
        "class NeuralNetworkModel(nn.Module):\n",
        "    def __init__(self, input_size, num_classes, num_hidden):\n",
        "        super().__init__()\n",
        "        ### 1st hidden layer:\n",
        "        self.linear_1 = nn.Linear(784, num_hidden)\n",
        "        ### Non-linearity in 1st hidden layer\n",
        "        self.relu_1 = nn.LeakyReLU()\n",
        "\n",
        "        ### 2nd hidden layer: \n",
        "        self.linear_2 = nn.Linear(num_hidden, num_hidden)\n",
        "        ### Non-linearity in 2nd hidden layer\n",
        "        self.leaky_relu_1 = nn.ReLU6()\n",
        "\n",
        "        ### 3rd hidden layer: \n",
        "        self.linear_3 = nn.Linear(num_hidden, num_hidden)\n",
        "        ### Non-linearity in 3rd hidden layer\n",
        "        self.relu_3 = nn.ReLU6()\n",
        "\n",
        "        ### 4th hidden layer: \n",
        "        self.linear_4 = nn.Linear(num_hidden, num_hidden)\n",
        "        self.sigmoid = nn.Sigmoid()\n",
        "\n",
        "        ### Output layer: \n",
        "        self.linear_out = nn.Linear(num_hidden, num_classes)\n",
        "\n",
        "    def forward(self, x):\n",
        "        ## 1st hidden layer\n",
        "        out  = self.linear_1(x)\n",
        "        ### Non-linearity in 1st hidden layer\n",
        "        out = self.relu_1(out)\n",
        "        \n",
        "        ### 2nd hidden layer\n",
        "        out  = self.linear_2(out)\n",
        "        ### Non-linearity in 2nd hidden layer\n",
        "        out = self.leaky_relu_1(out)\n",
        "\n",
        "        ### 3rd hidden layer\n",
        "        out  = self.linear_3(out)\n",
        "        ### Non-linearity in 3rd hidden layer\n",
        "        out = self.relu_3(out)\n",
        "\n",
        "        ### 4th hidden layer\n",
        "        out  = self.linear_4(out)\n",
        "        ### Non-linearity in 3rd hidden layer\n",
        "        out = self.sigmoid(out)\n",
        "        \n",
        "        # Linear layer (output)\n",
        "        #probas  = self.linear_out(out)\n",
        "        logits  = self.linear_out(out)\n",
        "        probas = F.softmax(logits, dim=1)\n",
        "        return probas\n",
        "\n",
        "model = NeuralNetworkModel(input_size = input_dim,\n",
        "                           num_classes = output_dim,\n",
        "                           num_hidden = num_hidden)\n",
        "# To enable GPU\n",
        "model.to(device)\n",
        "\n",
        "criterion = nn.CrossEntropyLoss()\n",
        "optimizer = torch.optim.Adamax(model.parameters(), lr=learning_rate)\n",
        "\n",
        "'''\n",
        "TRAIN THE MODEL\n",
        "'''\n",
        "iteration_loss = []\n",
        "iter = 0\n",
        "for epoch in range(num_epochs):\n",
        "    for i, (images, labels) in enumerate(train_loader):\n",
        "\n",
        "        images = images.view(-1, 28*28).to(device)\n",
        "        labels = labels.to(device)\n",
        "\n",
        "        # Clear gradients w.r.t. parameters\n",
        "        optimizer.zero_grad()\n",
        "\n",
        "        # Forward pass to get output/logits\n",
        "        outputs = model(images.float()) \n",
        "\n",
        "        # Calculate Loss: softmax --> cross entropy loss\n",
        "        loss = criterion(outputs, labels)\n",
        "\n",
        "        # Getting gradients w.r.t. parameters\n",
        "        loss.backward()\n",
        "\n",
        "        # Updating parameters\n",
        "        optimizer.step()\n",
        "\n",
        "        iter += 1\n",
        "        # print(iter)\n",
        "\n",
        "        if iter % 500 == 0:\n",
        "            # Calculate Accuracy         \n",
        "            correct = 0\n",
        "            total = 0\n",
        "            # Iterate through test dataset\n",
        "            for images, labels in test_loader:\n",
        "               \n",
        "                images = images.view(-1, 28*28).to(device)\n",
        "\n",
        "                # Forward pass only to get logits/output\n",
        "                outputs = model(images.float())\n",
        "\n",
        "                # Get predictions from the maximum value\n",
        "                _, predicted = torch.max(outputs, 1)\n",
        "\n",
        "                # Total number of labels\n",
        "                total += labels.size(0)\n",
        "\n",
        "\n",
        "                # Total correct predictions\n",
        "                if torch.cuda.is_available():\n",
        "                    correct += (predicted.cpu() == labels.cpu()).sum() \n",
        "                else:\n",
        "                    correct += (predicted == labels).sum()\n",
        "\n",
        "            accuracy = 100 * correct.item() / total\n",
        "\n",
        "            # Print Loss\n",
        "            iteration_loss.append(loss.item())\n",
        "            print('Iteration: {}. Loss: {}. Accuracy: {}'.format(iter, loss.item(), accuracy))"
      ],
      "execution_count": null,
      "outputs": [
        {
          "output_type": "stream",
          "text": [
            "Iteration: 500. Loss: 2.201491117477417. Accuracy: 29.560450715663386\n",
            "Iteration: 1000. Loss: 2.0513815879821777. Accuracy: 44.949751294284845\n",
            "Iteration: 1500. Loss: 1.8369840383529663. Accuracy: 53.39559435590295\n",
            "Iteration: 2000. Loss: 1.8131026029586792. Accuracy: 64.72439346259263\n",
            "Iteration: 2500. Loss: 1.7406741380691528. Accuracy: 74.51020200994823\n",
            "Iteration: 3000. Loss: 1.7462730407714844. Accuracy: 72.54085879606131\n",
            "Iteration: 3500. Loss: 1.7564940452575684. Accuracy: 73.74885798396102\n",
            "Iteration: 4000. Loss: 1.7221499681472778. Accuracy: 75.6369911684093\n",
            "Iteration: 4500. Loss: 1.6758028268814087. Accuracy: 78.4285859303624\n",
            "Iteration: 5000. Loss: 1.6618329286575317. Accuracy: 81.43335701959192\n",
            "Iteration: 5500. Loss: 1.6920701265335083. Accuracy: 79.75840016242006\n",
            "Iteration: 6000. Loss: 1.6672130823135376. Accuracy: 75.76895746624709\n",
            "Iteration: 6500. Loss: 1.6452836990356445. Accuracy: 83.20982641356207\n",
            "Iteration: 7000. Loss: 1.6456049680709839. Accuracy: 86.05217744391432\n",
            "Iteration: 7500. Loss: 1.6016525030136108. Accuracy: 86.39732006902852\n",
            "Iteration: 8000. Loss: 1.6097795963287354. Accuracy: 83.41285148715866\n",
            "Iteration: 8500. Loss: 1.542249083518982. Accuracy: 88.9046797279464\n",
            "Iteration: 9000. Loss: 1.5717772245407104. Accuracy: 89.05694853314384\n",
            "Iteration: 9500. Loss: 1.6124236583709717. Accuracy: 88.40726829763476\n",
            "Iteration: 10000. Loss: 1.5843349695205688. Accuracy: 90.13298142320576\n",
            "Iteration: 10500. Loss: 1.565311074256897. Accuracy: 89.20921733834129\n",
            "Iteration: 11000. Loss: 1.5869605541229248. Accuracy: 86.50898385950664\n",
            "Iteration: 11500. Loss: 1.565271258354187. Accuracy: 88.06212567252055\n",
            "Iteration: 12000. Loss: 1.6233842372894287. Accuracy: 89.29042736777993\n",
            "Iteration: 12500. Loss: 1.5791795253753662. Accuracy: 89.51375494873616\n",
            "Iteration: 13000. Loss: 1.6019092798233032. Accuracy: 90.54918282407877\n",
            "Iteration: 13500. Loss: 1.534839153289795. Accuracy: 91.03644300071059\n",
            "Iteration: 14000. Loss: 1.5401586294174194. Accuracy: 91.72672825093899\n",
            "Iteration: 14500. Loss: 1.521513819694519. Accuracy: 89.77768754441173\n",
            "Iteration: 15000. Loss: 1.5856852531433105. Accuracy: 91.40188813318444\n",
            "Iteration: 15500. Loss: 1.5359596014022827. Accuracy: 92.80276114100091\n",
            "Iteration: 16000. Loss: 1.5412957668304443. Accuracy: 91.43234189422394\n",
            "Iteration: 16500. Loss: 1.5724880695343018. Accuracy: 87.15866409501574\n",
            "Iteration: 17000. Loss: 1.5365208387374878. Accuracy: 91.43234189422394\n",
            "Iteration: 17500. Loss: 1.543574333190918. Accuracy: 92.49822353060603\n",
            "Iteration: 18000. Loss: 1.6027129888534546. Accuracy: 91.2800730890265\n",
            "Iteration: 18500. Loss: 1.505581259727478. Accuracy: 92.95502994619835\n",
            "Iteration: 19000. Loss: 1.7152312994003296. Accuracy: 80.65171048624505\n",
            "Iteration: 19500. Loss: 1.551384449005127. Accuracy: 92.67079484316314\n",
            "Iteration: 20000. Loss: 1.5696102380752563. Accuracy: 89.30057862145975\n",
            "Iteration: 20500. Loss: 1.521041750907898. Accuracy: 90.833417927114\n",
            "Iteration: 21000. Loss: 1.5205532312393188. Accuracy: 92.82306364836057\n",
            "Iteration: 21500. Loss: 1.552426815032959. Accuracy: 93.18850878083444\n",
            "Iteration: 22000. Loss: 1.54439377784729. Accuracy: 90.9349304639123\n",
            "Iteration: 22500. Loss: 1.5259109735488892. Accuracy: 92.25459344229013\n",
            "Iteration: 23000. Loss: 1.5170336961746216. Accuracy: 92.45761851588671\n",
            "Iteration: 23500. Loss: 1.5491398572921753. Accuracy: 92.02111460765404\n",
            "Iteration: 24000. Loss: 1.513755202293396. Accuracy: 94.36605420769465\n",
            "Iteration: 24500. Loss: 1.4977127313613892. Accuracy: 94.30514668561567\n",
            "Iteration: 25000. Loss: 1.505728840827942. Accuracy: 94.73149934016851\n",
            "Iteration: 25500. Loss: 1.4896395206451416. Accuracy: 91.80793828037763\n",
            "Iteration: 26000. Loss: 1.5343481302261353. Accuracy: 92.88397117043955\n",
            "Iteration: 26500. Loss: 1.5217605829238892. Accuracy: 95.29996954623896\n",
            "Iteration: 27000. Loss: 1.511297583580017. Accuracy: 94.98528068216424\n",
            "Iteration: 27500. Loss: 1.5240135192871094. Accuracy: 94.68074307176937\n",
            "Iteration: 28000. Loss: 1.514012098312378. Accuracy: 92.90427367779921\n",
            "Iteration: 28500. Loss: 1.4940435886383057. Accuracy: 93.45244137651\n",
            "Iteration: 29000. Loss: 1.4922564029693604. Accuracy: 93.25956755659324\n",
            "Iteration: 29500. Loss: 1.501170039176941. Accuracy: 92.19368592021115\n",
            "Iteration: 30000. Loss: 1.5223991870880127. Accuracy: 94.59953304233073\n",
            "Iteration: 30500. Loss: 1.5214738845825195. Accuracy: 93.65546645010659\n",
            "Iteration: 31000. Loss: 1.5291498899459839. Accuracy: 91.33082935742564\n",
            "Iteration: 31500. Loss: 1.487912893295288. Accuracy: 96.10191858694549\n",
            "Iteration: 32000. Loss: 1.5204346179962158. Accuracy: 93.99045782154096\n",
            "Iteration: 32500. Loss: 1.4927185773849487. Accuracy: 95.25936453151964\n",
            "Iteration: 33000. Loss: 1.496531367301941. Accuracy: 96.23388488478327\n",
            "Iteration: 33500. Loss: 1.5161994695663452. Accuracy: 95.8988935133489\n",
            "Iteration: 34000. Loss: 1.493635654449463. Accuracy: 96.3455486752614\n",
            "Iteration: 34500. Loss: 1.490952491760254. Accuracy: 95.92934727438839\n",
            "Iteration: 35000. Loss: 1.5339890718460083. Accuracy: 95.0055831895239\n",
            "Iteration: 35500. Loss: 1.494101643562317. Accuracy: 94.88376814536595\n",
            "Iteration: 36000. Loss: 1.5195317268371582. Accuracy: 93.99045782154096\n",
            "Iteration: 36500. Loss: 1.4912109375. Accuracy: 95.2086082631205\n",
            "Iteration: 37000. Loss: 1.4997825622558594. Accuracy: 95.60450715663384\n",
            "Iteration: 37500. Loss: 1.5041117668151855. Accuracy: 96.70084255405543\n",
            "Iteration: 38000. Loss: 1.486229658126831. Accuracy: 93.98030656786113\n",
            "Iteration: 38500. Loss: 1.4880714416503906. Accuracy: 95.68571718607248\n",
            "Iteration: 39000. Loss: 1.4961578845977783. Accuracy: 96.78205258349406\n",
            "Iteration: 39500. Loss: 1.5080715417861938. Accuracy: 95.14770074104152\n",
            "Iteration: 40000. Loss: 1.4741076231002808. Accuracy: 97.32006902852503\n",
            "Iteration: 40500. Loss: 1.4949125051498413. Accuracy: 95.71617094711196\n",
            "Iteration: 41000. Loss: 1.5008398294448853. Accuracy: 95.36087706831793\n",
            "Iteration: 41500. Loss: 1.4962860345840454. Accuracy: 96.57902750989747\n",
            "Iteration: 42000. Loss: 1.4956618547439575. Accuracy: 95.44208709775657\n",
            "Iteration: 42500. Loss: 1.4943221807479858. Accuracy: 95.25936453151964\n",
            "Iteration: 43000. Loss: 1.4875032901763916. Accuracy: 97.02568267180997\n",
            "Iteration: 43500. Loss: 1.468927264213562. Accuracy: 97.46218658004264\n",
            "Iteration: 44000. Loss: 1.480741024017334. Accuracy: 97.64490914627956\n",
            "Iteration: 44500. Loss: 1.482457160949707. Accuracy: 95.74662470815146\n",
            "Iteration: 45000. Loss: 1.4919625520706177. Accuracy: 93.59455892802761\n",
            "Iteration: 45500. Loss: 1.4868052005767822. Accuracy: 97.54339660948128\n",
            "Iteration: 46000. Loss: 1.4814043045043945. Accuracy: 95.93949852806821\n",
            "Iteration: 46500. Loss: 1.4702540636062622. Accuracy: 96.48766622677901\n",
            "Iteration: 47000. Loss: 1.4941141605377197. Accuracy: 96.58917876357731\n",
            "Iteration: 47500. Loss: 1.5047216415405273. Accuracy: 94.86346563800629\n",
            "Iteration: 48000. Loss: 1.4842876195907593. Accuracy: 96.80235509085372\n",
            "Iteration: 48500. Loss: 1.4658191204071045. Accuracy: 97.61445538524008\n",
            "Iteration: 49000. Loss: 1.4932994842529297. Accuracy: 96.964775149731\n",
            "Iteration: 49500. Loss: 1.477871060371399. Accuracy: 96.72114506141509\n",
            "Iteration: 50000. Loss: 1.5193753242492676. Accuracy: 95.83798599126992\n",
            "Iteration: 50500. Loss: 1.486283302307129. Accuracy: 98.22353060602984\n",
            "Iteration: 51000. Loss: 1.5008502006530762. Accuracy: 96.8632626129327\n",
            "Iteration: 51500. Loss: 1.4859566688537598. Accuracy: 96.75159882245457\n",
            "Iteration: 52000. Loss: 1.5014208555221558. Accuracy: 97.35052278956451\n",
            "Iteration: 52500. Loss: 1.4871420860290527. Accuracy: 97.85808547355599\n",
            "Iteration: 53000. Loss: 1.4832721948623657. Accuracy: 98.16262308395086\n",
            "Iteration: 53500. Loss: 1.4891242980957031. Accuracy: 96.68054004669577\n",
            "Iteration: 54000. Loss: 1.4781688451766968. Accuracy: 97.95959801035428\n"
          ],
          "name": "stdout"
        }
      ]
    },
    {
      "cell_type": "code",
      "metadata": {
        "colab": {
          "base_uri": "https://localhost:8080/",
          "height": 316
        },
        "id": "kE653VnZH2p3",
        "outputId": "17769f85-5974-41e8-e68f-3b5cf52c2b39"
      },
      "source": [
        "import matplotlib\n",
        "import matplotlib.pyplot as plt\n",
        "\n",
        "print (iteration_loss)\n",
        "plt.plot(iteration_loss)\n",
        "plt.ylabel('Cross Entropy Loss')\n",
        "plt.xlabel('Iteration (in every 500)')\n",
        "plt.show()"
      ],
      "execution_count": null,
      "outputs": [
        {
          "output_type": "stream",
          "text": [
            "[2.201491117477417, 2.0513815879821777, 1.8369840383529663, 1.8131026029586792, 1.7406741380691528, 1.7462730407714844, 1.7564940452575684, 1.7221499681472778, 1.6758028268814087, 1.6618329286575317, 1.6920701265335083, 1.6672130823135376, 1.6452836990356445, 1.6456049680709839, 1.6016525030136108, 1.6097795963287354, 1.542249083518982, 1.5717772245407104, 1.6124236583709717, 1.5843349695205688, 1.565311074256897, 1.5869605541229248, 1.565271258354187, 1.6233842372894287, 1.5791795253753662, 1.6019092798233032, 1.534839153289795, 1.5401586294174194, 1.521513819694519, 1.5856852531433105, 1.5359596014022827, 1.5412957668304443, 1.5724880695343018, 1.5365208387374878, 1.543574333190918, 1.6027129888534546, 1.505581259727478, 1.7152312994003296, 1.551384449005127, 1.5696102380752563, 1.521041750907898, 1.5205532312393188, 1.552426815032959, 1.54439377784729, 1.5259109735488892, 1.5170336961746216, 1.5491398572921753, 1.513755202293396, 1.4977127313613892, 1.505728840827942, 1.4896395206451416, 1.5343481302261353, 1.5217605829238892, 1.511297583580017, 1.5240135192871094, 1.514012098312378, 1.4940435886383057, 1.4922564029693604, 1.501170039176941, 1.5223991870880127, 1.5214738845825195, 1.5291498899459839, 1.487912893295288, 1.5204346179962158, 1.4927185773849487, 1.496531367301941, 1.5161994695663452, 1.493635654449463, 1.490952491760254, 1.5339890718460083, 1.494101643562317, 1.5195317268371582, 1.4912109375, 1.4997825622558594, 1.5041117668151855, 1.486229658126831, 1.4880714416503906, 1.4961578845977783, 1.5080715417861938, 1.4741076231002808, 1.4949125051498413, 1.5008398294448853, 1.4962860345840454, 1.4956618547439575, 1.4943221807479858, 1.4875032901763916, 1.468927264213562, 1.480741024017334, 1.482457160949707, 1.4919625520706177, 1.4868052005767822, 1.4814043045043945, 1.4702540636062622, 1.4941141605377197, 1.5047216415405273, 1.4842876195907593, 1.4658191204071045, 1.4932994842529297, 1.477871060371399, 1.5193753242492676, 1.486283302307129, 1.5008502006530762, 1.4859566688537598, 1.5014208555221558, 1.4871420860290527, 1.4832721948623657, 1.4891242980957031, 1.4781688451766968]\n"
          ],
          "name": "stdout"
        },
        {
          "output_type": "display_data",
          "data": {
            "image/png": "[encoded data removed]",
            "text/plain": [
              "<Figure size 432x288 with 1 Axes>"
            ]
          },
          "metadata": {
            "tags": [],
            "needs_background": "light"
          }
        }
      ]
    },
    {
      "cell_type": "code",
      "metadata": {
        "id": "ijKTgXH79owH"
      },
      "source": [
        "root_path = '/content'"
      ],
      "execution_count": null,
      "outputs": []
    },
    {
      "cell_type": "code",
      "metadata": {
        "id": "gALp1_J29ql1"
      },
      "source": [
        "save_model = True\n",
        "\n",
        "if save_model is True:\n",
        "    # Saves only parameters\n",
        "    # wights & biases\n",
        "    torch.save(model.state_dict(), root_path + 'NumtaDb_deep18.pkl') "
      ],
      "execution_count": null,
      "outputs": []
    },
    {
      "cell_type": "code",
      "metadata": {
        "colab": {
          "base_uri": "https://localhost:8080/"
        },
        "id": "q-O5Ey2W-bGX",
        "outputId": "3b3a5ceb-2cbc-4780-8202-e2529d558714"
      },
      "source": [
        "load_model = True\n",
        "\n",
        "if load_model is True:\n",
        "    model.load_state_dict(torch.load(root_path + 'NumtaDb_deep18.pkl'))\n",
        "    print('Trained Model Loaded')"
      ],
      "execution_count": null,
      "outputs": [
        {
          "output_type": "stream",
          "text": [
            "Trained Model Loaded\n"
          ],
          "name": "stdout"
        }
      ]
    },
    {
      "cell_type": "markdown",
      "metadata": {
        "id": "iT1G9-a0l1lC"
      },
      "source": [
        "# **ID: 16.02.04.070**\n",
        "# **Assignment #2**\n",
        "# **Problem #1**\n",
        "I have tried with many settings, tried how many layer is going to give a sustaining result where the cross entropy loss curve will decrease in a slow pace. I found that 4layer deep neueal network helped me to get nearer to a desired result. My result was getting better when I feed the neural network a bigger chunk at a time with a relatively lower learning rate passed it in a dimension which in nearer the the output dimension. I have found that doing so, my model was getting higher accuracy as the iteration increased  and the cross entropy loss was getting smallar with further iteration. But for this Assignment i have chosen my best 4 settings that I have tried with. Here is a brief description of that.\n",
        "\n",
        "- **1st Settings:**\n",
        "Used a 5 layer settings in a order like (tanh->leakyReLU->ReLU6->ReLU6->Sigmoid) with Adagrad optimizer accuracy was nearly 80%.\n",
        "- **2nd Settings:**\n",
        "Changed the previous settings. Used a 4 layer settings in a order like (leakyReLU->ReLU6->ReLU6->Sigmoid) with Adamax optimizer accuracy was nearly 89%. It was a great turn. As I saw the cross entropy loss curve, it was still declining, so i increased iteration and learning rate.\n",
        "![image.png](data:image/png;base64,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)\n",
        "- **3rd Settings:**\n",
        "After increasing iteration to 30000, accuracy went over 95% and the curve still looked pleasent.\n",
        "![image.png](data:image/png;base64,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)\n",
        "- **4th Settings:**\n",
        "Then I increased iteration number to get a nice steady accuracy. After a little bit trying I have found the accuracy to be 97.95% stable at 54500 iteration. If I increase or decrease it a little bit, they result would flactuate. So, I decided to keep it as my final accuracy.\n",
        "![image.png](data:image/png;base64,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)\n",
        "\n",
        "\n",
        "No.|batch_size | num_iters | learning rate|optimizer|hidden layer Dim|Accuracy\n",
        "---|---|---|---|---|---|---|\n",
        "1|260|30,000|0.004|Adagrad|200|79.72794640138056%\n",
        "2|250|15,000|0.001|Adamax|180|89.55435996345548%\n",
        "3|256|30,000|0.002|Adamax|180|95.7973809765506%\n",
        "4|256|54500|0.003|Adamax|180|97.95959801035428%"
      ]
    }
  ]
}